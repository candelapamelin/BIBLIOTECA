{
  "nbformat": 4,
  "nbformat_minor": 0,
  "metadata": {
    "colab": {
      "provenance": [],
      "authorship_tag": "ABX9TyNrJ9VP5GxcGTwUh8RlQ0/l",
      "include_colab_link": true
    },
    "kernelspec": {
      "name": "python3",
      "display_name": "Python 3"
    },
    "language_info": {
      "name": "python"
    }
  },
  "cells": [
    {
      "cell_type": "markdown",
      "metadata": {
        "id": "view-in-github",
        "colab_type": "text"
      },
      "source": [
        "<a href=\"https://colab.research.google.com/github/candelapamelin/BIBLIOTECA/blob/candela/BIBLIOTECA1.ipynb\" target=\"_parent\"><img src=\"https://colab.research.google.com/assets/colab-badge.svg\" alt=\"Open In Colab\"/></a>"
      ]
    },
    {
      "cell_type": "code",
      "source": [
        "class Lector:\n",
        "    def _init_(self, nombre, apellido, multas=0):\n",
        "        self.nombre = nombre\n",
        "        self.apellido = apellido\n",
        "        self.multas = multas\n",
        "\n",
        "    def generar_multa(self, cantidad):\n",
        "        self.multas += cantidad\n",
        "        print(f'Se ha generado una multa de {cantidad} pesos para {self.nombre} {self.apellido}')\n",
        "\n",
        "    def pagar_multa(self, cantidad):\n",
        "        if cantidad >= self.multas:\n",
        "            self.multas = 0\n",
        "            print(f'Se ha pagado la multa completa de {self.multas} pesos para {self.nombre} {self.apellido}')\n",
        "        else:\n",
        "            self.multas -= cantidad\n",
        "            print(f'Se ha pagado una parte de la multa. Quedan {self.multas} pesos por pagar para {self.nombre} {self.apellido}')"
      ],
      "metadata": {
        "id": "N5V6qQAqTikf"
      },
      "execution_count": 2,
      "outputs": []
    }
  ]
}