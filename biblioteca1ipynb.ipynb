class Lector:
    def _init_(self, nombre, apellido, multas=0):
        self.nombre = nombre
        self.apellido = apellido
        self.multas = multas

    def generar_multa(self, cantidad):
        self.multas += cantidad
        print(f'Se ha generado una multa de {cantidad} pesos para {self.nombre} {self.apellido}')

    def pagar_multa(self, cantidad):
        if cantidad >= self.multas:
            self.multas = 0
            print(f'Se ha pagado la multa completa de {self.multas} pesos para {self.nombre} {self.apellido}')
        else:
            self.multas -= cantidad
            print(f'Se ha pagado una parte de la multa. Quedan {self.multas} pesos por pagar para {self.nombre} {self.apellido}')
