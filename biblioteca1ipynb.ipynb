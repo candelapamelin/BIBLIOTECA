{
  "nbformat": 4,
  "nbformat_minor": 0,
  "metadata": {
    "colab": {
      "provenance": [],
      "authorship_tag": "ABX9TyMSWDJWnXGk1jmgCD7pSkY6",
      "include_colab_link": true
    },
    "kernelspec": {
      "name": "python3",
      "display_name": "Python 3"
    },
    "language_info": {
      "name": "python"
    }
  },
  "cells": [
    {
      "cell_type": "markdown",
      "metadata": {
        "id": "view-in-github",
        "colab_type": "text"
      },
      "source": [
        "<a href=\"https://colab.research.google.com/github/candelapamelin/BIBLIOTECA/blob/candela/biblioteca1ipynb.ipynb\" target=\"_parent\"><img src=\"https://colab.research.google.com/assets/colab-badge.svg\" alt=\"Open In Colab\"/></a>"
      ]
    },
    {
      "cell_type": "code",
      "source": [
        "class Autor:\n",
        "    def _init_(self, nombre, apellido):\n",
        "        self.nombre = nombre\n",
        "        self.apellido = apellido\n",
        "\n",
        "class Libro:\n",
        "    def _init_(self, titulo, autor, ejemplares_disponibles=1):\n",
        "        self.titulo = titulo\n",
        "        self.autor = autor\n",
        "        self.ejemplares_disponibles = ejemplares_disponibles\n",
        "\n",
        "    def prestar(self):\n",
        "        if self.ejemplares_disponibles > 0:\n",
        "            self.ejemplares_disponibles -= 1\n",
        "            print(f'Libro \"{self.titulo}\" prestado')\n",
        "        else:\n",
        "            print('Lo siento, no hay ejemplares disponibles de este libro')\n",
        "\n",
        "    def devolver(self):\n",
        "        self.ejemplares_disponibles += 1\n",
        "        print(f'Libro \"{self.titulo}\" devuelto')\n",
        "\n",
        "class Lector:\n",
        "    def _init_(self, nombre, apellido):\n",
        "        self.nombre = nombre\n",
        "        self.apellido = apellido\n",
        "\n",
        "    def pagar_multa(self, cantidad):\n",
        "        print(f'Se ha pagado una multa de {cantidad} pesos')\n",
        "\n",
        "class Multa:\n",
        "    def _init_(self, lector, cantidad):\n",
        "        self.lector = lector\n",
        "        self.cantidad = cantidad\n",
        "\n",
        "    def generar_multa(self):\n",
        "        print(f'Se ha generado una multa de {self.cantidad} pesos para {self.lector.nombre} {self.lector.apellido}')"
      ],
      "metadata": {
        "id": "4SE99UbxOryW"
      },
      "execution_count": 8,
      "outputs": []
    }
  ]
}