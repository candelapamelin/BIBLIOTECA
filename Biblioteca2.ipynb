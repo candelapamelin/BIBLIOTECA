{
  "nbformat": 4,
  "nbformat_minor": 0,
  "metadata": {
    "colab": {
      "provenance": [],
      "authorship_tag": "ABX9TyM9XHHDkxOn+dOgVDq6/0px",
      "include_colab_link": true
    },
    "kernelspec": {
      "name": "python3",
      "display_name": "Python 3"
    },
    "language_info": {
      "name": "python"
    }
  },
  "cells": [
    {
      "cell_type": "markdown",
      "metadata": {
        "id": "view-in-github",
        "colab_type": "text"
      },
      "source": [
        "<a href=\"https://colab.research.google.com/github/candelapamelin/BIBLIOTECA/blob/natalia/Biblioteca2.ipynb\" target=\"_parent\"><img src=\"https://colab.research.google.com/assets/colab-badge.svg\" alt=\"Open In Colab\"/></a>"
      ]
    },
    {
      "cell_type": "code",
      "execution_count": 1,
      "metadata": {
        "id": "74ovh8a7WyEy"
      },
      "outputs": [],
      "source": [
        "class Autor:\n",
        "    def _init_(self, nombre, apellido, nacionalidad):\n",
        "        self.nombre = nombre\n",
        "        self.apellido = apellido\n",
        "        self.nacionalidad = nacionalidad\n",
        "\n",
        "class Libro:\n",
        "    def _init_(self, titulo, autor, anio_publicacion):\n",
        "        self.titulo = titulo\n",
        "        self.autor = autor\n",
        "        self.anio_publicacion = anio_publicacion"
      ]
    }
  ]
}