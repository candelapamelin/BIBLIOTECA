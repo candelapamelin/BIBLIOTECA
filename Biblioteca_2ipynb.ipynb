{
  "nbformat": 4,
  "nbformat_minor": 0,
  "metadata": {
    "colab": {
      "provenance": [],
      "authorship_tag": "ABX9TyPN2eSy/mUki95Ehdjd0aeP",
      "include_colab_link": true
    },
    "kernelspec": {
      "name": "python3",
      "display_name": "Python 3"
    },
    "language_info": {
      "name": "python"
    }
  },
  "cells": [
    {
      "cell_type": "markdown",
      "metadata": {
        "id": "view-in-github",
        "colab_type": "text"
      },
      "source": [
        "<a href=\"https://colab.research.google.com/github/candelapamelin/BIBLIOTECA/blob/natalia/Biblioteca_2ipynb.ipynb\" target=\"_parent\"><img src=\"https://colab.research.google.com/assets/colab-badge.svg\" alt=\"Open In Colab\"/></a>"
      ]
    },
    {
      "cell_type": "code",
      "source": [
        "class Libro:\n",
        "    def _init_(self, titulo, autor):\n",
        "        self.titulo = titulo\n",
        "        self.autor = autor\n",
        "\n",
        "class Autor:\n",
        "    def _init_(self, nombre):\n",
        "        self.nombre = nombre\n",
        "\n",
        "class Lector:\n",
        "    def _init_(self, nombre):\n",
        "        self.nombre = nombre\n",
        "        self.libros_prestados = []\n",
        "\n",
        "    def prestar_libro(self, libro):\n",
        "        self.libros_prestados.append(libro)\n",
        "\n",
        "    def devolver_libro(self, libro):\n",
        "        self.libros_prestados.remove(libro)\n",
        "\n",
        "class Multa:\n",
        "    def _init_(self, lector, monto):\n",
        "        self.lector = lector\n",
        "        self.monto = monto\n"
      ],
      "metadata": {
        "id": "mQDytKx7QAVi"
      },
      "execution_count": 3,
      "outputs": []
    }
  ]
}